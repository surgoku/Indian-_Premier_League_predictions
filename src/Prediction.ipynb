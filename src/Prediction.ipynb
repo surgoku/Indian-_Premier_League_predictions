{
 "cells": [
  {
   "cell_type": "code",
   "execution_count": null,
   "metadata": {
    "collapsed": false
   },
   "outputs": [],
   "source": [
    "#Predict the win probability of team 'SRH' at the end of each over in the finals of IPL 2016 \n",
    "#with the training data as all other matches played in 2016 season"
   ]
  },
  {
   "cell_type": "code",
   "execution_count": null,
   "metadata": {
    "collapsed": false
   },
   "outputs": [],
   "source": [
    "#Load modules\n",
    "import operator\n",
    "import pandas as pd\n",
    "import numpy as np\n",
    "import matplotlib.pyplot as plt\n",
    "import xgboost as xgb\n",
    "import seaborn as sns\n",
    "%matplotlib inline\n",
    "\n",
    "pd.set_option('display.max_columns', 50)"
   ]
  },
  {
   "cell_type": "code",
   "execution_count": null,
   "metadata": {
    "collapsed": false
   },
   "outputs": [],
   "source": [
    "#Read Dataset\n",
    "data_path = \"../data/\"\n",
    "match_df = pd.read_csv(data_path+\"matches.csv\")\n",
    "score_df = pd.read_csv(data_path+\"deliveries.csv\")\n",
    "match_df.head()"
   ]
  },
  {
   "cell_type": "code",
   "execution_count": null,
   "metadata": {
    "collapsed": false
   },
   "outputs": [],
   "source": [
    "#Matches played only in 2016 season are considered for this analysis\n",
    "match_df = match_df.ix[match_df.season==2016,:]\n",
    "match_df = match_df.ix[match_df.dl_applied == 0,:]\n",
    "match_df.head()"
   ]
  },
  {
   "cell_type": "code",
   "execution_count": null,
   "metadata": {
    "collapsed": true
   },
   "outputs": [],
   "source": [
    "# Preprocessing is over. Now create variables necessary for building model.\n",
    "# Some of them are 'Runs scored in the last over', 'Wickets taken in the last over', 'Total score of the innings',\n",
    "# 'Total wickets', 'Target that the team is chasing down', 'Remaining target', 'Run rate', 'Required run rate', \n",
    "# 'Difference between run rate and required run rate', 'Binary variables on whether the team for which we are \n",
    "#  predicting is batting team or bowling team'. Others variables include 'Team name', 'Opponent team name', 'Score in the last 'n' overs', \n",
    "# 'Players who are batting', 'Player who is bowling' and so on."
   ]
  },
  {
   "cell_type": "code",
   "execution_count": null,
   "metadata": {
    "collapsed": false
   },
   "outputs": [],
   "source": [
    "# Runs and wickets per over\n",
    "score_df = pd.merge(score_df, match_df[['id','season', 'winner', 'result', 'dl_applied', 'team1', 'team2']], left_on='match_id', right_on='id')\n",
    "score_df.player_dismissed.fillna(0, inplace=True)\n",
    "score_df['player_dismissed'].ix[score_df['player_dismissed'] != 0] = 1\n",
    "train_df = score_df.groupby(['match_id', 'inning', 'over', 'team1', 'team2', 'batting_team', 'winner'])[['total_runs', 'player_dismissed']].agg(['sum']).reset_index()\n",
    "train_df.columns = train_df.columns.get_level_values(0)\n",
    "\n",
    "# Innings score and wickets\n",
    "train_df['innings_wickets'] = train_df.groupby(['match_id', 'inning'])['player_dismissed'].cumsum()\n",
    "train_df['innings_score'] = train_df.groupby(['match_id', 'inning'])['total_runs'].cumsum()\n",
    "train_df.head()\n",
    "\n",
    "# Get the target column \n",
    "temp_df = train_df.groupby(['match_id', 'inning'])['total_runs'].sum().reset_index()\n",
    "temp_df = temp_df.ix[temp_df['inning']==1,:]\n",
    "temp_df['inning'] = 2\n",
    "temp_df.columns = ['match_id', 'inning', 'score_target']\n",
    "train_df = train_df.merge(temp_df, how='left', on = ['match_id', 'inning'])\n",
    "train_df['score_target'].fillna(-1, inplace=True)\n",
    "\n",
    "# Get the remaining target\n",
    "def get_remaining_target(row):\n",
    "    if row['score_target'] == -1.:\n",
    "        return -1\n",
    "    else:\n",
    "        return row['score_target'] - row['innings_score']\n",
    "\n",
    "train_df['remaining_target'] = train_df.apply(lambda row: get_remaining_target(row),axis=1)\n",
    "\n",
    "# Get the run rate\n",
    "train_df['run_rate'] = train_df['innings_score'] / train_df['over']\n",
    "\n",
    "# Get the remaining run rate\n",
    "def get_required_rr(row):\n",
    "    if row['remaining_target'] == -1:\n",
    "        return -1.\n",
    "    elif row['over'] == 20:\n",
    "        return 99\n",
    "    else:\n",
    "        return row['remaining_target'] / (20-row['over'])\n",
    "    \n",
    "train_df['required_run_rate'] = train_df.apply(lambda row: get_required_rr(row), axis=1)\n",
    "\n",
    "def get_rr_diff(row):\n",
    "    if row['inning'] == 1:\n",
    "        return -1\n",
    "    else:\n",
    "        return row['run_rate'] - row['required_run_rate']\n",
    "    \n",
    "train_df['runrate_diff'] = train_df.apply(lambda row: get_rr_diff(row), axis=1)\n",
    "train_df['is_batting_team'] = (train_df['team1'] == train_df['batting_team']).astype('int')\n",
    "train_df['target'] = (train_df['team1'] == train_df['winner']).astype('int')\n",
    "\n",
    "train_df.head()"
   ]
  },
  {
   "cell_type": "code",
   "execution_count": null,
   "metadata": {
    "collapsed": false
   },
   "outputs": [],
   "source": [
    "# Split Data and use final match data for validation sample\n",
    "x_cols = ['inning', 'over', 'total_runs', 'player_dismissed', 'innings_wickets', 'innings_score', 'score_target', 'remaining_target', 'run_rate', 'required_run_rate', 'runrate_diff', 'is_batting_team']\n",
    "\n",
    "# let us take all the matches but for the final as development sample and final as val sample #\n",
    "val_df = train_df.ix[train_df.match_id == 577,:]\n",
    "dev_df = train_df.ix[train_df.match_id != 577,:]\n",
    "\n",
    "# create the input and target variables #\n",
    "dev_X = np.array(dev_df[x_cols[:]])\n",
    "dev_y = np.array(dev_df['target'])\n",
    "val_X = np.array(val_df[x_cols[:]])[:-1,:]\n",
    "val_y = np.array(val_df['target'])[:-1]\n",
    "print(dev_X.shape, dev_y.shape)\n",
    "print(val_X.shape, val_y.shape)"
   ]
  },
  {
   "cell_type": "code",
   "execution_count": null,
   "metadata": {
    "collapsed": true
   },
   "outputs": [],
   "source": [
    "# Using XGBoost for odeling\n",
    "# http://dmlc.cs.washington.edu/xgboost.html\n",
    "def runXGB(train_X, train_y, seed_val=0):\n",
    "    param = {}\n",
    "    param['objective'] = 'binary:logistic'\n",
    "    param['eta'] = 0.05\n",
    "    param['max_depth'] = 8\n",
    "    param['silent'] = 1\n",
    "    param['eval_metric'] = \"auc\"\n",
    "    param['min_child_weight'] = 1\n",
    "    param['subsample'] = 0.7\n",
    "    param['colsample_bytree'] = 0.7\n",
    "    param['seed'] = seed_val\n",
    "    num_rounds = 100\n",
    "\n",
    "    plst = list(param.items())\n",
    "    xgtrain = xgb.DMatrix(train_X, label=train_y)\n",
    "    model = xgb.train(plst, xgtrain, num_rounds)\n",
    "    return model"
   ]
  },
  {
   "cell_type": "code",
   "execution_count": null,
   "metadata": {
    "collapsed": true
   },
   "outputs": [],
   "source": [
    "# Build model and get prection for final match\n",
    "model = runXGB(dev_X, dev_y)\n",
    "xgtest = xgb.DMatrix(val_X)\n",
    "preds = model.predict(xgtest)"
   ]
  },
  {
   "cell_type": "code",
   "execution_count": null,
   "metadata": {
    "collapsed": false
   },
   "outputs": [],
   "source": [
    "# Important variables contributing to win\n",
    "def create_feature_map(features):\n",
    "    outfile = open('xgb.fmap', 'w')\n",
    "    for i, feat in enumerate(features):\n",
    "        outfile.write('{0}\\t{1}\\tq\\n'.format(i,feat))\n",
    "    outfile.close()\n",
    "\n",
    "create_feature_map(x_cols)\n",
    "importance = model.get_fscore(fmap='xgb.fmap')\n",
    "importance = sorted(importance.items(), key=operator.itemgetter(1), reverse=True)\n",
    "imp_df = pd.DataFrame(importance, columns=['feature','fscore'])\n",
    "imp_df['fscore'] = imp_df['fscore'] / imp_df['fscore'].sum()\n",
    "\n",
    "# create a function for labeling #\n",
    "def autolabel(rects):\n",
    "    for rect in rects:\n",
    "        height = rect.get_height()\n",
    "        ax.text(rect.get_x() + rect.get_width()/2., 1.02*height,\n",
    "                '%f' % float(height),\n",
    "                ha='center', va='bottom')\n",
    "        \n",
    "labels = np.array(imp_df.feature.values)\n",
    "ind = np.arange(len(labels))\n",
    "width = 0.9\n",
    "fig, ax = plt.subplots(figsize=(12,6))\n",
    "rects = ax.bar(ind, np.array(imp_df.fscore.values), width=width, color='y')\n",
    "ax.set_xticks(ind+((width)/2.))\n",
    "ax.set_xticklabels(labels, rotation='vertical')\n",
    "ax.set_ylabel(\"Importance score\")\n",
    "ax.set_title(\"Variable importance\")\n",
    "autolabel(rects)\n",
    "plt.show()"
   ]
  },
  {
   "cell_type": "code",
   "execution_count": null,
   "metadata": {
    "collapsed": false
   },
   "outputs": [],
   "source": [
    "# Win probability at end of each over\n",
    "out_df = pd.DataFrame({'Team1':val_df.team1.values})\n",
    "out_df['is_batting_team'] = val_df.is_batting_team.values\n",
    "out_df['innings_over'] = np.array(val_df.apply(lambda row: str(row['inning']) + \"_\" + str(row['over']), axis=1))\n",
    "out_df['innings_score'] = val_df.innings_score.values\n",
    "out_df['innings_wickets'] = val_df.innings_wickets.values\n",
    "out_df['score_target'] = val_df.score_target.values\n",
    "out_df['total_runs'] = val_df.total_runs.values\n",
    "out_df['predictions'] = list(preds)+[1]\n",
    "\n",
    "fig, ax1 = plt.subplots(figsize=(12,6))\n",
    "ax2 = ax1.twinx()\n",
    "labels = np.array(out_df['innings_over'])\n",
    "ind = np.arange(len(labels))\n",
    "width = 0.7\n",
    "rects = ax1.bar(ind, np.array(out_df['innings_score']), width=width, color=['yellow']*20 + ['green']*20)\n",
    "ax1.set_xticks(ind+((width)/2.))\n",
    "ax1.set_xticklabels(labels, rotation='vertical')\n",
    "ax1.set_ylabel(\"Innings score\")\n",
    "ax1.set_xlabel(\"Innings and over\")\n",
    "ax1.set_title(\"Win percentage prediction for Sunrisers Hyderabad - over by over\")\n",
    "\n",
    "ax2.plot(ind+0.35, np.array(out_df['predictions']), color='b', marker='o')\n",
    "ax2.plot(ind+0.35, np.array([0.5]*40), color='red', marker='o')\n",
    "ax2.set_ylabel(\"Win percentage\", color='b')\n",
    "ax2.set_ylim([0,1])\n",
    "ax2.grid(b=False)\n",
    "plt.show()"
   ]
  },
  {
   "cell_type": "code",
   "execution_count": null,
   "metadata": {
    "collapsed": true
   },
   "outputs": [],
   "source": [
    "#Observations\n",
    "# Scores in the corresponding over: Yellow bar - SRH ; Green - RCB\n",
    "# Red line - Equal win probability; Blue line - Win probability of SRH at the end of each over.\n"
   ]
  },
  {
   "cell_type": "code",
   "execution_count": null,
   "metadata": {
    "collapsed": false
   },
   "outputs": [],
   "source": [
    "# No of runs scored in the over instead of cumulative runs (like previous viz)\n",
    "fig, ax1 = plt.subplots(figsize=(12,6))\n",
    "ax2 = ax1.twinx()\n",
    "labels = np.array(out_df['innings_over'])\n",
    "ind = np.arange(len(labels))\n",
    "width = 0.7\n",
    "rects = ax1.bar(ind, np.array(out_df['total_runs']), width=width, color=['yellow']*20 + ['green']*20)\n",
    "ax1.set_xticks(ind+((width)/2.))\n",
    "ax1.set_xticklabels(labels, rotation='vertical')\n",
    "ax1.set_ylabel(\"Runs in the given over\")\n",
    "ax1.set_xlabel(\"Innings and over\")\n",
    "ax1.set_title(\"Win percentage prediction for Sunrisers Hyderabad - over by over\")\n",
    "\n",
    "ax2.plot(ind+0.35, np.array(out_df['predictions']), color='b', marker='o')\n",
    "ax2.plot(ind+0.35, np.array([0.5]*40), color='red', marker='o')\n",
    "ax2.set_ylabel(\"Win percentage\", color='b')\n",
    "ax2.set_ylim([0,1])\n",
    "ax2.grid(b=False)\n",
    "plt.show()"
   ]
  },
  {
   "cell_type": "code",
   "execution_count": null,
   "metadata": {
    "collapsed": true
   },
   "outputs": [],
   "source": [
    "# OBSERVATIONS\n",
    "#  SRH scored 16 and 24 runs in the last 2 overs whch gave them an edge over RCB in the final. They have constant\n",
    "#  low run rate in the first 8 overs, so the probability of SRH winning the match was above 0.5. After 8th over (when\n",
    "#  RCB scored 21 runs, the winning probability reduced). Wickets fell in 13th and 15th over and SRH conceded only \n",
    "#  4 runs in 16th over, which shifted the game towards SRH and increased the probability of winning the match."
   ]
  },
  {
   "cell_type": "code",
   "execution_count": null,
   "metadata": {
    "collapsed": true
   },
   "outputs": [],
   "source": []
  }
 ],
 "metadata": {
  "kernelspec": {
   "display_name": "Python 2",
   "language": "python",
   "name": "python2"
  },
  "language_info": {
   "codemirror_mode": {
    "name": "ipython",
    "version": 2
   },
   "file_extension": ".py",
   "mimetype": "text/x-python",
   "name": "python",
   "nbconvert_exporter": "python",
   "pygments_lexer": "ipython2",
   "version": "2.7.13"
  }
 },
 "nbformat": 4,
 "nbformat_minor": 2
}
